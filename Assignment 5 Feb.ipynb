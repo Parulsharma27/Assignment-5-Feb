{
 "cells": [
  {
   "cell_type": "code",
   "execution_count": 38,
   "id": "254c6719-d790-4f5c-b86e-39c87bdcd4a6",
   "metadata": {},
   "outputs": [
    {
     "ename": "NameError",
     "evalue": "name 'CoffeeMaker' is not defined",
     "output_type": "error",
     "traceback": [
      "\u001b[0;31m---------------------------------------------------------------------------\u001b[0m",
      "\u001b[0;31mNameError\u001b[0m                                 Traceback (most recent call last)",
      "Cell \u001b[0;32mIn[38], line 3\u001b[0m\n\u001b[1;32m      1\u001b[0m \u001b[38;5;66;03m#Q1. Explain Class and Object with respect to Object-Oriented Programming. Give a suitable example.\u001b[39;00m\n\u001b[0;32m----> 3\u001b[0m \u001b[38;5;28;01mclass\u001b[39;00m \u001b[38;5;21;01mCoffeeMaker\u001b[39;00m:\n\u001b[1;32m      4\u001b[0m     \u001b[38;5;28;01mdef\u001b[39;00m \u001b[38;5;21m__init__\u001b[39m(\u001b[38;5;28mself\u001b[39m, menu, price, quantity):\n\u001b[1;32m      5\u001b[0m         \u001b[38;5;28mself\u001b[39m\u001b[38;5;241m.\u001b[39mmenu\u001b[38;5;241m=\u001b[39m menu\n",
      "Cell \u001b[0;32mIn[38], line 12\u001b[0m, in \u001b[0;36mCoffeeMaker\u001b[0;34m()\u001b[0m\n\u001b[1;32m      9\u001b[0m \u001b[38;5;28;01mdef\u001b[39;00m \u001b[38;5;21mreturn_details\u001b[39m(\u001b[38;5;28mself\u001b[39m):\n\u001b[1;32m     10\u001b[0m     \u001b[38;5;28;01mreturn\u001b[39;00m \u001b[38;5;28mself\u001b[39m\u001b[38;5;241m.\u001b[39mmenu, \u001b[38;5;28mself\u001b[39m\u001b[38;5;241m.\u001b[39mprice, \u001b[38;5;28mself\u001b[39m\u001b[38;5;241m.\u001b[39mquantity\n\u001b[0;32m---> 12\u001b[0m coffee \u001b[38;5;241m=\u001b[39m \u001b[43mCoffeeMaker\u001b[49m(\u001b[38;5;124m'\u001b[39m\u001b[38;5;124minstant_coffee\u001b[39m\u001b[38;5;124m'\u001b[39m, \u001b[38;5;241m250\u001b[39m, \u001b[38;5;241m2\u001b[39m)\n\u001b[1;32m     14\u001b[0m output \u001b[38;5;241m=\u001b[39m coffee\u001b[38;5;241m.\u001b[39mreturn_details()\n\u001b[1;32m     15\u001b[0m \u001b[38;5;28mprint\u001b[39m(output)\n",
      "\u001b[0;31mNameError\u001b[0m: name 'CoffeeMaker' is not defined"
     ]
    }
   ],
   "source": [
    "#Q1. Explain Class and Object with respect to Object-Oriented Programming. Give a suitable example.\n",
    "\n",
    "class CoffeeMaker:\n",
    "    def __init__(self, menu, price, quantity):\n",
    "        self.menu= menu\n",
    "        self.price= price\n",
    "        self.quanity= quantity\n",
    "        \n",
    "    def return_details(self):\n",
    "        return self.menu, self.price, self.quantity\n",
    "    \n",
    "coffee = CoffeeMaker('instant_coffee', 250, 2)\n",
    "        \n",
    "output = coffee.return_details()\n",
    "    print(output)\n",
    "    \n",
    "    \n",
    "    \n",
    "        "
   ]
  },
  {
   "cell_type": "code",
   "execution_count": 39,
   "id": "26838c9e-3e2d-4f41-8b48-4e1d790f6ca9",
   "metadata": {},
   "outputs": [
    {
     "ename": "SyntaxError",
     "evalue": "invalid syntax (1301390209.py, line 2)",
     "output_type": "error",
     "traceback": [
      "\u001b[0;36m  Cell \u001b[0;32mIn[39], line 2\u001b[0;36m\u001b[0m\n\u001b[0;31m    The four pillars of Object-Oriented Programming (OOPs) are:\u001b[0m\n\u001b[0m        ^\u001b[0m\n\u001b[0;31mSyntaxError\u001b[0m\u001b[0;31m:\u001b[0m invalid syntax\n"
     ]
    }
   ],
   "source": [
    "#Q2. Name the four pillars of OOPs.\n",
    "The four pillars of Object-Oriented Programming (OOPs) are:\n",
    "\n",
    "Encapsulation: Encapsulation refers to the concept of hiding the internal details of an object from the outside world and exposing only the necessary information through methods and properties. This helps in achieving data security and allows for better maintenance and flexibility of code.\n",
    "\n",
    "Abstraction: Abstraction refers to the process of identifying and focusing only on the relevant characteristics and behavior of an object, ignoring all the other details. This helps in reducing complexity and making the code more understandable and manageable.\n",
    "\n",
    "Inheritance: Inheritance is a mechanism that allows a new class to be based on an existing class, inheriting its properties and methods. This helps in achieving code reuse and reducing redundancy.\n",
    "\n",
    "Polymorphism: Polymorphism refers to the ability of objects of different classes to be treated as if they were objects of the same class. This allows for flexibility and extensibility of code, as it allows for different objects to be used interchangeably in the same context.\n",
    "\n",
    "\n",
    "\n",
    "\n",
    "\n",
    "\n"
   ]
  },
  {
   "cell_type": "code",
   "execution_count": 34,
   "id": "ebb066f7-274a-41c2-85d7-458f4cbb0508",
   "metadata": {},
   "outputs": [
    {
     "name": "stdout",
     "output_type": "stream",
     "text": [
      "My name is parul and I am 12 years old.\n"
     ]
    }
   ],
   "source": [
    "#Q3. Explain why the __init__() function is used. Give a suitable example.\n",
    "#In Python, __init__() is a special method or constructor function that is called when an object is created from a class. It is used to initialize the instance variables or attributes of an object.\n",
    "class Person:\n",
    "    def __init__(self, name , age, contact):\n",
    "        self.name=name\n",
    "        self.age=age\n",
    "        self.contact=contact\n",
    "    def get_details (self):\n",
    "        return(f'My name is {self.name} and I am {self.age} years old.')\n",
    "     \n",
    "person1 = Person('parul', 12, 987654)\n",
    "print(person1.get_details())\n",
    "        \n",
    "        \n",
    "        \n"
   ]
  },
  {
   "cell_type": "code",
   "execution_count": null,
   "id": "f555a77c-762c-4101-adb8-4ba7121879c7",
   "metadata": {},
   "outputs": [],
   "source": [
    "#Q4. Why self is used in OOPs?\n",
    "In Object-Oriented Programming (OOP), the concept of self is used to refer to the instance of a class that is currently being manipulated or accessed. It is a reference to the object itself.\n",
    "\n",
    "In OOP, objects are created from classes, which are essentially blueprints that define the properties and behavior of the objects. When a method is called on an object, the object's state may be modified, and the method can reference or modify the object's properties. The self keyword is used to refer to the object whose method is being called.\n"
   ]
  },
  {
   "cell_type": "code",
   "execution_count": 20,
   "id": "bcd3c7f3-ec9a-4354-ad02-528251cdc65b",
   "metadata": {
    "jupyter": {
     "source_hidden": true
    },
    "tags": []
   },
   "outputs": [
    {
     "name": "stdout",
     "output_type": "stream",
     "text": [
      "I can move!\n",
      "None\n"
     ]
    }
   ],
   "source": [
    "# #Q5 Inheritance is a fundamental concept in Object-Oriented Programming (OOP), where a new class is created from an existing class, and the new class inherits the properties and methods of the existing class. The existing class is called the parent or base class, while the new class is called the child or derived class.\n",
    "\n",
    "# There are different types of inheritance in OOP. The main types are:\n",
    "\n",
    "# Single Inheritance: In this type of inheritance, a child class inherits properties and methods from a single parent class.\n",
    "#Multiple Inheritance: In this type of inheritance, a child class inherits properties and methods from multiple parent classes.\n",
    "#Example:\n",
    "class Animal:\n",
    "    def move(self):\n",
    "        print(\"I can move!\")\n",
    "class Dog(Animal):\n",
    "     def move (self):\n",
    "        \n",
    "        print(\"I can bark\")\n",
    "harry=Animal()\n",
    "print (harry.move())\n",
    "\n",
    "\n",
    "\n",
    "\n",
    "\n",
    "    \n",
    "    "
   ]
  },
  {
   "cell_type": "code",
   "execution_count": 22,
   "id": "bee469c0-9d48-48c0-b4c5-52babaebc7db",
   "metadata": {},
   "outputs": [
    {
     "name": "stdout",
     "output_type": "stream",
     "text": [
      "Best programmer should know all the syntax to avoid error\n",
      "None\n"
     ]
    }
   ],
   "source": [
    "\n",
    "#Q5Example of multiple inheritance\n",
    "\n",
    "class Programming:\n",
    "    def syntax(self):\n",
    "        print('Best programmer should know all the syntax to avoid error')\n",
    "        \n",
    "class DataScience(Programming):\n",
    "    def modules(self):\n",
    "        print('Learn all the modules')\n",
    "class Masters (DataScience):\n",
    "    def modules(self):\n",
    "        print('pwskills gave me this skill')\n",
    "parul= Masters()\n",
    "print(parul.syntax())"
   ]
  },
  {
   "cell_type": "code",
   "execution_count": 25,
   "id": "8d1fbdff-7673-4f0c-9715-f025ae37b71e",
   "metadata": {},
   "outputs": [
    {
     "name": "stdout",
     "output_type": "stream",
     "text": [
      "Best programmer should know all the syntax to avoid error\n",
      "None\n"
     ]
    }
   ],
   "source": [
    "class Programming:\n",
    "    def syntax(self):\n",
    "        print('Best programmer should know all the syntax to avoid error')\n",
    "        \n",
    "class DataScience(Programming):\n",
    "    def modules(self):\n",
    "        print('Learn all the modules')\n",
    "parul= DataScience()\n",
    "print(parul.syntax())\n",
    "\n"
   ]
  },
  {
   "cell_type": "code",
   "execution_count": null,
   "id": "2c1727eb-d776-4e86-ae7e-6d7eae8ffc37",
   "metadata": {},
   "outputs": [],
   "source": []
  },
  {
   "cell_type": "code",
   "execution_count": 35,
   "id": "5cae08f4-2c39-4042-bde3-a4ab583ed691",
   "metadata": {},
   "outputs": [
    {
     "ename": "NameError",
     "evalue": "name 'CoffeeMaker' is not defined",
     "output_type": "error",
     "traceback": [
      "\u001b[0;31m---------------------------------------------------------------------------\u001b[0m",
      "\u001b[0;31mNameError\u001b[0m                                 Traceback (most recent call last)",
      "Cell \u001b[0;32mIn[35], line 1\u001b[0m\n\u001b[0;32m----> 1\u001b[0m \u001b[38;5;28;01mclass\u001b[39;00m \u001b[38;5;21;01mCoffeeMaker\u001b[39;00m:\n\u001b[1;32m      2\u001b[0m     \u001b[38;5;28;01mdef\u001b[39;00m \u001b[38;5;21m__init__\u001b[39m(\u001b[38;5;28mself\u001b[39m, menu, price, quantity):\n\u001b[1;32m      3\u001b[0m         \u001b[38;5;28mself\u001b[39m\u001b[38;5;241m.\u001b[39mmenu\u001b[38;5;241m=\u001b[39m menu\n",
      "Cell \u001b[0;32mIn[35], line 10\u001b[0m, in \u001b[0;36mCoffeeMaker\u001b[0;34m()\u001b[0m\n\u001b[1;32m      7\u001b[0m \u001b[38;5;28;01mdef\u001b[39;00m \u001b[38;5;21mreturn_details\u001b[39m(\u001b[38;5;28mself\u001b[39m):\n\u001b[1;32m      8\u001b[0m     \u001b[38;5;28;01mreturn\u001b[39;00m \u001b[38;5;28mself\u001b[39m\u001b[38;5;241m.\u001b[39mmenu, \u001b[38;5;28mself\u001b[39m\u001b[38;5;241m.\u001b[39mprice, \u001b[38;5;28mself\u001b[39m\u001b[38;5;241m.\u001b[39mquantity\n\u001b[0;32m---> 10\u001b[0m coffee \u001b[38;5;241m=\u001b[39m \u001b[43mCoffeeMaker\u001b[49m(\u001b[38;5;124m'\u001b[39m\u001b[38;5;124minstant_coffee\u001b[39m\u001b[38;5;124m'\u001b[39m, \u001b[38;5;241m250\u001b[39m, \u001b[38;5;241m2\u001b[39m)\n\u001b[1;32m     12\u001b[0m output\u001b[38;5;241m=\u001b[39m coffee\u001b[38;5;241m.\u001b[39mreturn_details()\n\u001b[1;32m     13\u001b[0m \u001b[38;5;28mprint\u001b[39m (output)\n",
      "\u001b[0;31mNameError\u001b[0m: name 'CoffeeMaker' is not defined"
     ]
    }
   ],
   "source": [
    "class CoffeeMaker:\n",
    "    def __init__(self, menu, price, quantity):\n",
    "        self.menu= menu\n",
    "        self.price= price\n",
    "        self.quanity= quantity\n",
    "        \n",
    "    def return_details(self):\n",
    "        return self.menu, self.price, self.quantity\n",
    "    \n",
    "    coffee = CoffeeMaker('instant_coffee', 250, 2)\n",
    "        \n",
    "    output= coffee.return_details()\n",
    "    print (output)\n",
    "    "
   ]
  },
  {
   "cell_type": "code",
   "execution_count": null,
   "id": "a19c35cb-1aa5-4d41-9455-6e8af23aee7f",
   "metadata": {},
   "outputs": [],
   "source": []
  },
  {
   "cell_type": "code",
   "execution_count": null,
   "id": "f4b4197f-e5dd-4af7-a7f4-1b4e08172abb",
   "metadata": {},
   "outputs": [],
   "source": []
  }
 ],
 "metadata": {
  "kernelspec": {
   "display_name": "Python 3 (ipykernel)",
   "language": "python",
   "name": "python3"
  },
  "language_info": {
   "codemirror_mode": {
    "name": "ipython",
    "version": 3
   },
   "file_extension": ".py",
   "mimetype": "text/x-python",
   "name": "python",
   "nbconvert_exporter": "python",
   "pygments_lexer": "ipython3",
   "version": "3.10.8"
  }
 },
 "nbformat": 4,
 "nbformat_minor": 5
}
